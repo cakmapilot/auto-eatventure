{
 "cells": [
  {
   "cell_type": "code",
   "execution_count": 26,
   "metadata": {},
   "outputs": [
    {
     "data": {
      "text/plain": [
       "[(13, 152, 171),\n",
       " (14, 155, 140),\n",
       " (19, 130, 232),\n",
       " (19, 126, 254),\n",
       " (18, 130, 239)]"
      ]
     },
     "execution_count": 26,
     "metadata": {},
     "output_type": "execute_result"
    }
   ],
   "source": [
    "import cv2\n",
    "import numpy as np\n",
    "\n",
    "def hex_to_bgr(hex_color):\n",
    "    hex_color = hex_color.lstrip('#')\n",
    "    bgr_color = tuple(int(hex_color[i:i+2], 16) for i in (4, 2, 0))\n",
    "    return bgr_color\n",
    "\n",
    "def bgr_to_hsv(bgr_color):\n",
    "    bgr_array = np.uint8([[bgr_color]])\n",
    "    hsv_array = cv2.cvtColor(bgr_array, cv2.COLOR_BGR2HSV)\n",
    "    hsv_color = tuple(hsv_array[0][0])\n",
    "    return hsv_color\n",
    "\n",
    "def hex_to_hsv(hex_color):\n",
    "    bgr_color = hex_to_bgr(hex_color)\n",
    "    hsv_color = bgr_to_hsv(bgr_color)\n",
    "    return hsv_color\n",
    "\n",
    "\n",
    "box = ['#AB7245', '#8C5E37', '#E8BB72', '#FED080', '#EFBE75']\n",
    "\n",
    "all_hex_colors = box\n",
    "all_hsv_colors = [hex_to_hsv(hex_color) for hex_color in all_hex_colors]\n",
    "all_hsv_colors"
   ]
  },
  {
   "cell_type": "code",
   "execution_count": 41,
   "metadata": {},
   "outputs": [
    {
     "data": {
      "image/png": "[encoded data removed]",
      "text/plain": [
       "<Figure size 1440x1440 with 2 Axes>"
      ]
     },
     "metadata": {
      "needs_background": "light"
     },
     "output_type": "display_data"
    }
   ],
   "source": [
    "import matplotlib.pyplot as plt\n",
    "import cv2\n",
    "import numpy as np\n",
    "\n",
    "\n",
    "def box_mask_image(image, tolerance=2):\n",
    "    # box = ['#FFE18B', '#AB7245', '#8C5E37', '#E8BB72', '#FED080']\n",
    "    colors = [\n",
    "        # (22, 116, 255),\n",
    "              (13, 152, 171),\n",
    "              (14, 155, 140),\n",
    "              # (19, 130, 232),\n",
    "              # (19, 126, 254),\n",
    "              # (18, 130, 239)\n",
    "        ]\n",
    "    hsv_image = cv2.cvtColor(image, cv2.COLOR_BGR2HSV)\n",
    "    combined_mask = np.zeros_like(hsv_image[:, :, 0])\n",
    "\n",
    "    for color in colors:\n",
    "        lower_color = np.array(\n",
    "            [max(color[0] - tolerance, 0), max(color[1] - tolerance, 0), max(color[2] - tolerance, 0)])\n",
    "        upper_color = np.array([min(color[0] + tolerance, 180),\n",
    "                                min(color[1] + tolerance, 255), min(color[2] + tolerance, 255)])\n",
    "\n",
    "        mask = cv2.inRange(hsv_image, lower_color, upper_color)\n",
    "        combined_mask = cv2.bitwise_or(combined_mask, mask)\n",
    "\n",
    "    masked_image = cv2.bitwise_and(hsv_image, hsv_image, mask=combined_mask)\n",
    "    return masked_image\n",
    "\n",
    "\n",
    "im = cv2.imread('sc1.png')\n",
    "masked_image = box_mask_image(im)\n",
    "box_image = box_mask_image(cv2.imread('box.png'))\n",
    "\n",
    "plt.figure(figsize=(20,20)) \n",
    "plt.subplot(1, 2, 1)\n",
    "plt.imshow(masked_image)\n",
    "plt.subplot(1, 2, 2)\n",
    "\n",
    "plt.imshow(box_image)\n",
    "plt.show()\n"
   ]
  },
  {
   "attachments": {},
   "cell_type": "markdown",
   "metadata": {},
   "source": [
    "## Matching box code"
   ]
  },
  {
   "cell_type": "code",
   "execution_count": 49,
   "metadata": {},
   "outputs": [],
   "source": [
    "# matching function\n",
    "from sklearn.cluster import DBSCAN\n",
    "\n",
    "\n",
    "def find_all_templates(image, template, end=False, threshold=0.8):\n",
    "    if len(template.shape[::-1]) == 2:\n",
    "        template_width, template_height = template.shape[::-1]\n",
    "    else:\n",
    "        template_width, template_height = template.shape[::-1][1:]\n",
    "    result = cv2.matchTemplate(image, template, cv2.TM_CCOEFF_NORMED)\n",
    "    # looking at best position\n",
    "    m = cv2.minMaxLoc(result)\n",
    "    print(m)\n",
    "    locations = np.where(result >= threshold)\n",
    "\n",
    "    coordinates = []\n",
    "    for pt in zip(*locations[::-1]):\n",
    "        if end:\n",
    "            x_center = pt[0] + template_width\n",
    "            y_center = pt[1] + template_height\n",
    "        else:\n",
    "            x_center = pt[0] + template_width//2\n",
    "            y_center = pt[1] + template_height//2\n",
    "        coordinates.append((x_center, y_center))\n",
    "\n",
    "    # cluster the points together\n",
    "    # Use DBSCAN clustering to group close points\n",
    "    coords = np.array(coordinates)\n",
    "    if len(coords) == 0:\n",
    "        return []\n",
    "    dbscan = DBSCAN(eps=10, min_samples=5)\n",
    "    dbscan.fit(coords)\n",
    "\n",
    "    # Find the cluster centroids\n",
    "    centroids = []\n",
    "    for cluster_label in set(dbscan.labels_):\n",
    "        if cluster_label != -1:  # Ignore the noise points (label -1)\n",
    "            cluster_coords = coords[dbscan.labels_ == cluster_label]\n",
    "            centroid = np.mean(cluster_coords, axis=0)\n",
    "            centroids.append(centroid)\n",
    "\n",
    "    centroids = [c.astype(int).tolist() for c in centroids]\n",
    "    return centroids\n",
    "\n",
    "\n",
    "def find_template(image, template, match_algo=cv2.TM_CCOEFF_NORMED, threshold=0.8):\n",
    "    result = cv2.matchTemplate(image, template, match_algo)\n",
    "    matches = cv2.minMaxLoc(result)\n",
    "    print(matches)\n",
    "    _, max_val, _, max_loc = matches\n",
    "\n",
    "    if max_val > threshold:\n",
    "        return max_loc\n",
    "    return None\n"
   ]
  },
  {
   "cell_type": "code",
   "execution_count": 51,
   "metadata": {},
   "outputs": [
    {
     "name": "stdout",
     "output_type": "stream",
     "text": [
      "(1728350.0, 435515648.0, (738, 2143), (400, 2158))\n",
      "cv2.TM_SQDIFF (400, 2158)\n",
      "\n",
      "(0.008121540769934654, 1.0, (738, 2143), (0, 0))\n",
      "cv2.TM_SQDIFF_NORMED (0, 0)\n",
      "\n",
      "(-17.077777862548828, 211946432.0, (596, 2143), (738, 2143))\n",
      "cv2.TM_CCORR (738, 2143)\n",
      "\n",
      "(-5.783087431154854e-07, 0.995939314365387, (972, 760), (738, 2143))\n",
      "cv2.TM_CCORR_NORMED (738, 2143)\n",
      "\n",
      "(-55936684.0, 146886784.0, (400, 2158), (738, 2143))\n",
      "cv2.TM_CCOEFF (738, 2143)\n",
      "\n",
      "(-0.3525318205356598, 0.9941512942314148, (400, 2158), (738, 2143))\n",
      "cv2.TM_CCOEFF_NORMED (738, 2143)\n",
      "\n"
     ]
    }
   ],
   "source": [
    "sc = cv2.imread('sc6-truth.png')\n",
    "template = cv2.imread('box.png')\n",
    "\n",
    "# plt.figure(figsize=(20,20)) \n",
    "# plt.subplot(1, 2, 1)\n",
    "# plt.imshow(box_mask_image(sc))\n",
    "# plt.subplot(1, 2, 2)\n",
    "# plt.imshow(box_mask_image(template))\n",
    "# plt.show()\n",
    "\n",
    "algos = [cv2.TM_SQDIFF, cv2.TM_SQDIFF_NORMED, cv2.TM_CCORR, cv2.TM_CCORR_NORMED, cv2.TM_CCOEFF, cv2.TM_CCOEFF_NORMED]\n",
    "algo_names = ['cv2.TM_SQDIFF', 'cv2.TM_SQDIFF_NORMED', 'cv2.TM_CCORR', 'cv2.TM_CCORR_NORMED', 'cv2.TM_CCOEFF', 'cv2.TM_CCOEFF_NORMED']\n",
    "\n",
    "for index, algo in enumerate(algos):\n",
    "  coords = find_template(box_mask_image(sc), box_mask_image(template), match_algo=algo)\n",
    "  print(algo_names[index], coords)\n",
    "  print()\n",
    "\n",
    "# for annotating points\n",
    "# print(len(coords))\n",
    "# print('coords', coords)\n",
    "# sc = cv2.imread(dev.captured_sc_path)\n",
    "# for c in coords:\n",
    "#     cv2.circle(sc, (c[0], c[1]), radius=10,\n",
    "#                 color=(0, 0, 255), thickness=-1)\n",
    "# cv2.imwrite('./captured_screenshots_on_the_fly/annotated_screenshot.png', sc)"
   ]
  },
  {
   "cell_type": "code",
   "execution_count": 53,
   "metadata": {},
   "outputs": [
    {
     "name": "stdout",
     "output_type": "stream",
     "text": [
      "(3072680.0, 524136768.0, (370, 1072), (386, 1032))\n",
      "cv2.TM_SQDIFF (386, 1032)\n",
      "\n",
      "(0.009777876548469067, 1.0, (370, 1072), (0, 0))\n",
      "cv2.TM_SQDIFF_NORMED (0, 0)\n",
      "\n",
      "(-28.533334732055664, 312711872.0, (520, 1073), (370, 1072))\n",
      "cv2.TM_CCORR (370, 1072)\n",
      "\n",
      "(0.0, 0.9951111674308777, (0, 0), (370, 1072))\n",
      "cv2.TM_CCORR_NORMED (370, 1072)\n",
      "\n",
      "(-86839344.0, 173680768.0, (386, 1032), (370, 1072))\n",
      "cv2.TM_CCOEFF (370, 1072)\n",
      "\n",
      "(-0.4955902695655823, 0.9912320375442505, (386, 1032), (370, 1072))\n",
      "cv2.TM_CCOEFF_NORMED (370, 1072)\n",
      "\n"
     ]
    }
   ],
   "source": [
    "sc = cv2.imread('sc1.png')\n",
    "template = cv2.imread('box2.png')\n",
    "\n",
    "# plt.figure(figsize=(20,20)) \n",
    "# plt.subplot(1, 2, 1)\n",
    "# plt.imshow(box_mask_image(sc))\n",
    "# plt.subplot(1, 2, 2)\n",
    "# plt.imshow(box_mask_image(template))\n",
    "# plt.show()\n",
    "\n",
    "algos = [cv2.TM_SQDIFF, cv2.TM_SQDIFF_NORMED, cv2.TM_CCORR, cv2.TM_CCORR_NORMED, cv2.TM_CCOEFF, cv2.TM_CCOEFF_NORMED]\n",
    "algo_names = ['cv2.TM_SQDIFF', 'cv2.TM_SQDIFF_NORMED', 'cv2.TM_CCORR', 'cv2.TM_CCORR_NORMED', 'cv2.TM_CCOEFF', 'cv2.TM_CCOEFF_NORMED']\n",
    "\n",
    "for index, algo in enumerate(algos):\n",
    "  coords = find_template(box_mask_image(sc), box_mask_image(template), match_algo=algo)\n",
    "  print(algo_names[index], coords)\n",
    "  print()"
   ]
  }
 ],
 "metadata": {
  "kernelspec": {
   "display_name": "base",
   "language": "python",
   "name": "python3"
  },
  "language_info": {
   "codemirror_mode": {
    "name": "ipython",
    "version": 3
   },
   "file_extension": ".py",
   "mimetype": "text/x-python",
   "name": "python",
   "nbconvert_exporter": "python",
   "pygments_lexer": "ipython3",
   "version": "3.7.6"
  },
  "orig_nbformat": 4,
  "vscode": {
   "interpreter": {
    "hash": "89c352f3994863b42bbce236e38fe77f6c4f474f94f8dd599423708e7e11c5b0"
   }
  }
 },
 "nbformat": 4,
 "nbformat_minor": 2
}
