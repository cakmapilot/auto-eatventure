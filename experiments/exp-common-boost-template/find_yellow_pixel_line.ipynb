{
 "cells": [
  {
   "cell_type": "code",
   "execution_count": 24,
   "metadata": {},
   "outputs": [
    {
     "data": {
      "text/plain": [
       "array([11, 32, 41], dtype=uint8)"
      ]
     },
     "execution_count": 24,
     "metadata": {},
     "output_type": "execute_result"
    }
   ],
   "source": [
    "import cv2\n",
    "import numpy as np\n",
    "\n",
    "img = cv2.imread('./common_boost.png')\n",
    "# img = cv2.imread('./no_boost.png')\n",
    "\n",
    "x1, y1 = 408, 274\n",
    "x2, y2 = 466, 274\n",
    "\n",
    "# particualr coordinates\n",
    "img[278, 427]"
   ]
  },
  {
   "cell_type": "code",
   "execution_count": 25,
   "metadata": {},
   "outputs": [
    {
     "name": "stdout",
     "output_type": "stream",
     "text": [
      "The specified color is present between the two coordinates.\n"
     ]
    }
   ],
   "source": [
    "color_to_check = [42, 192, 255]\n",
    "# color_to_check = color_to_check[::-1]\n",
    "\n",
    "# Get the coordinates of the points on the line between (x1, y1) and (x2, y2)\n",
    "line_points = []\n",
    "dx = x2 - x1\n",
    "dy = y2 - y1\n",
    "steps = max(abs(dx), abs(dy))\n",
    "x_increment = dx / steps\n",
    "y_increment = dy / steps\n",
    "\n",
    "for i in range(steps + 1):\n",
    "    x = int(x1 + i * x_increment)\n",
    "    y = int(y1 + i * y_increment)\n",
    "    line_points.append((x, y))\n",
    "\n",
    "# Check if the specified color is present in the pixels along the line\n",
    "color_present = False\n",
    "\n",
    "for x, y in line_points:\n",
    "    pixel_color = img[y, x]\n",
    "    if all(pixel_color == color_to_check):\n",
    "        color_present = True\n",
    "        break\n",
    "\n",
    "if color_present:\n",
    "    print(\"The specified color is present between the two coordinates.\")\n",
    "else:\n",
    "    print(\"The specified color is not present between the two coordinates.\")"
   ]
  },
  {
   "cell_type": "code",
   "execution_count": 20,
   "metadata": {},
   "outputs": [
    {
     "name": "stdout",
     "output_type": "stream",
     "text": [
      "The specified color is not present between the two coordinates.\n"
     ]
    },
    {
     "data": {
      "text/plain": [
       "Counter({'6-5-4': 59})"
      ]
     },
     "execution_count": 20,
     "metadata": {},
     "output_type": "execute_result"
    }
   ],
   "source": [
    "color_to_check = [11, 32, 41]\n",
    "# color_to_check = color_to_check[::-1]\n",
    "\n",
    "# Get the coordinates of the points on the line between (x1, y1) and (x2, y2)\n",
    "line_points = []\n",
    "dx = x2 - x1\n",
    "dy = y2 - y1\n",
    "steps = max(abs(dx), abs(dy))\n",
    "x_increment = dx / steps\n",
    "y_increment = dy / steps\n",
    "\n",
    "for i in range(steps + 1):\n",
    "    x = int(x1 + i * x_increment)\n",
    "    y = int(y1 + i * y_increment)\n",
    "    line_points.append((x, y))\n",
    "\n",
    "# Check if the specified color is present in the pixels along the line\n",
    "color_present = False\n",
    "\n",
    "all_colors = []\n",
    "\n",
    "for x, y in line_points:\n",
    "    pixel_color = img[y, x]\n",
    "    # print(x, y, pixel_color)\n",
    "    all_colors.append('-'.join([str(i) for i in pixel_color]))\n",
    "    if all(pixel_color == color_to_check):\n",
    "        color_present = True\n",
    "        break\n",
    "\n",
    "if color_present:\n",
    "    print(\"The specified color is present between the two coordinates.\")\n",
    "else:\n",
    "    print(\"The specified color is not present between the two coordinates.\")\n",
    "\n",
    "from collections import Counter\n",
    "\n",
    "Counter(all_colors)"
   ]
  },
  {
   "cell_type": "code",
   "execution_count": null,
   "metadata": {},
   "outputs": [],
   "source": []
  }
 ],
 "metadata": {
  "kernelspec": {
   "display_name": "eatventures-env",
   "language": "python",
   "name": "python3"
  },
  "language_info": {
   "codemirror_mode": {
    "name": "ipython",
    "version": 3
   },
   "file_extension": ".py",
   "mimetype": "text/x-python",
   "name": "python",
   "nbconvert_exporter": "python",
   "pygments_lexer": "ipython3",
   "version": "3.7.6"
  },
  "orig_nbformat": 4
 },
 "nbformat": 4,
 "nbformat_minor": 2
}
